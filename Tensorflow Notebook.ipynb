{
 "cells": [
  {
   "cell_type": "markdown",
   "metadata": {},
   "source": [
    "Resources Used\n",
    "- wget.download('https://tensorflow-object-detection-api-tutorial.readthedocs.io/en/latest/_downloads/da4babe668a8afb093cc7776d7e630f3/generate_tfrecord.py')\n",
    "- Setup https://tensorflow-object-detection-api-tutorial.readthedocs.io/en/latest/install.html"
   ]
  },
  {
   "cell_type": "markdown",
   "metadata": {},
   "source": [
    "# 0. Setup Paths"
   ]
  },
  {
   "cell_type": "code",
   "execution_count": 1,
   "metadata": {},
   "outputs": [],
   "source": [
    "WORKSPACE_PATH = 'Tensorflow/workspace'\n",
    "SCRIPTS_PATH = 'Tensorflow/scripts'\n",
    "APIMODEL_PATH = 'Tensorflow/models'\n",
    "ANNOTATION_PATH = WORKSPACE_PATH+'/annotations'\n",
    "IMAGE_PATH = WORKSPACE_PATH+'/images'\n",
    "MODEL_PATH = WORKSPACE_PATH+'/models'\n",
    "PRETRAINED_MODEL_PATH = WORKSPACE_PATH+'/pre-trained-models'\n",
    "CONFIG_PATH = MODEL_PATH+'/my_ssd_mobnet/pipeline.config'\n",
    "CHECKPOINT_PATH = MODEL_PATH+'/my_ssd_mobnet/'"
   ]
  },
  {
   "cell_type": "markdown",
   "metadata": {},
   "source": [
    "# 1. Create Label Map"
   ]
  },
  {
   "cell_type": "code",
   "execution_count": 2,
   "metadata": {},
   "outputs": [],
   "source": [
    "labels = [{'name':'Hello', 'id':1}, \n",
    "          {'name':'Thank You', 'id':2},\n",
    "          {'name':'Yes', 'id':3},\n",
    "          {'name':'No', 'id':4}, \n",
    "          {'name':'Threat', 'id':5}\n",
    "         ]\n",
    "\n",
    "with open(ANNOTATION_PATH + '\\label_map.pbtxt', 'w') as f:\n",
    "    for label in labels:\n",
    "        f.write('item { \\n')\n",
    "        f.write('\\tname:\\'{}\\'\\n'.format(label['name']))\n",
    "        f.write('\\tid:{}\\n'.format(label['id']))\n",
    "        f.write('}\\n')"
   ]
  },
  {
   "cell_type": "markdown",
   "metadata": {},
   "source": [
    "# 2. Create TF records"
   ]
  },
  {
   "cell_type": "code",
   "execution_count": 3,
   "metadata": {},
   "outputs": [
    {
     "data": {
      "text/plain": [
       "'python Tensorflow/scripts/generate_tfrecord.py -x Tensorflow/workspace/images/test -l Tensorflow/workspace/annotations/test.record'"
      ]
     },
     "execution_count": 3,
     "metadata": {},
     "output_type": "execute_result"
    }
   ],
   "source": [
    "\"python Tensorflow/scripts/generate_tfrecord.py -x Tensorflow/workspace/images/train -l Tensorflow/workspace/annotations/train.record\"\n",
    "\"python Tensorflow/scripts/generate_tfrecord.py -x Tensorflow/workspace/images/test -l Tensorflow/workspace/annotations/test.record\""
   ]
  },
  {
   "cell_type": "code",
   "execution_count": 4,
   "metadata": {},
   "outputs": [
    {
     "name": "stderr",
     "output_type": "stream",
     "text": [
      "Traceback (most recent call last):\n",
      "  File \"C:\\Users\\Akash Singh\\Documents\\Coding\\Python Program\\Major + Minor Project\\RealTimeObjectDetection\\Tensorflow\\scripts\\generate_tfrecord.py\", line 21, in <module>\n",
      "    import pandas as pd\n",
      "ModuleNotFoundError: No module named 'pandas'\n",
      "Traceback (most recent call last):\n",
      "  File \"C:\\Users\\Akash Singh\\Documents\\Coding\\Python Program\\Major + Minor Project\\RealTimeObjectDetection\\Tensorflow\\scripts\\generate_tfrecord.py\", line 21, in <module>\n",
      "    import pandas as pd\n",
      "ModuleNotFoundError: No module named 'pandas'\n"
     ]
    }
   ],
   "source": [
    "!python {SCRIPTS_PATH + '/generate_tfrecord.py'} -x {IMAGE_PATH + '/train'} -l {ANNOTATION_PATH + '/label_map.pbtxt'} -o {ANNOTATION_PATH + '/train.record'}\n",
    "!python {SCRIPTS_PATH + '/generate_tfrecord.py'} -x {IMAGE_PATH + '/test'} -l {ANNOTATION_PATH + '/label_map.pbtxt'} -o {ANNOTATION_PATH + '/test.record'}"
   ]
  },
  {
   "cell_type": "markdown",
   "metadata": {},
   "source": [
    "# 3. Download TF Models Pretrained Models from Tensorflow Model Zoo"
   ]
  },
  {
   "cell_type": "code",
   "execution_count": 5,
   "metadata": {},
   "outputs": [
    {
     "name": "stderr",
     "output_type": "stream",
     "text": [
      "fatal: destination path 'models' already exists and is not an empty directory.\n"
     ]
    }
   ],
   "source": [
    "!cd Tensorflow && git clone https://github.com/tensorflow/models"
   ]
  },
  {
   "cell_type": "code",
   "execution_count": 6,
   "metadata": {},
   "outputs": [
    {
     "name": "stderr",
     "output_type": "stream",
     "text": [
      "'mv' is not recognized as an internal or external command,\n",
      "operable program or batch file.\n",
      "x ssd_mobilenet_v2_fpnlite_320x320_coco17_tpu-8/\n",
      "x ssd_mobilenet_v2_fpnlite_320x320_coco17_tpu-8/checkpoint/\n",
      "x ssd_mobilenet_v2_fpnlite_320x320_coco17_tpu-8/checkpoint/ckpt-0.data-00000-of-00001\n",
      "x ssd_mobilenet_v2_fpnlite_320x320_coco17_tpu-8/checkpoint/checkpoint\n",
      "x ssd_mobilenet_v2_fpnlite_320x320_coco17_tpu-8/checkpoint/ckpt-0.index\n",
      "x ssd_mobilenet_v2_fpnlite_320x320_coco17_tpu-8/pipeline.config\n",
      "x ssd_mobilenet_v2_fpnlite_320x320_coco17_tpu-8/saved_model/\n",
      "x ssd_mobilenet_v2_fpnlite_320x320_coco17_tpu-8/saved_model/saved_model.pb\n",
      "x ssd_mobilenet_v2_fpnlite_320x320_coco17_tpu-8/saved_model/variables/\n",
      "x ssd_mobilenet_v2_fpnlite_320x320_coco17_tpu-8/saved_model/variables/variables.data-00000-of-00001\n",
      "x ssd_mobilenet_v2_fpnlite_320x320_coco17_tpu-8/saved_model/variables/variables.index\n"
     ]
    }
   ],
   "source": [
    "#wget.download('http://download.tensorflow.org/models/object_detection/tf2/20200711/ssd_mobilenet_v2_fpnlite_320x320_coco17_tpu-8.tar.gz')\n",
    "!mv ssd_mobilenet_v2_fpnlite_320x320_coco17_tpu-8.tar.gz {PRETRAINED_MODEL_PATH}\n",
    "!cd {PRETRAINED_MODEL_PATH} && tar -zxvf ssd_mobilenet_v2_fpnlite_320x320_coco17_tpu-8.tar.gz"
   ]
  },
  {
   "cell_type": "markdown",
   "metadata": {},
   "source": [
    "# 4. Copy Model Config to Training Folder"
   ]
  },
  {
   "cell_type": "code",
   "execution_count": 7,
   "metadata": {},
   "outputs": [],
   "source": [
    "CUSTOM_MODEL_NAME = 'my_ssd_mobnet' "
   ]
  },
  {
   "cell_type": "code",
   "execution_count": 8,
   "metadata": {},
   "outputs": [],
   "source": [
    "# !mkdir {'Tensorflow\\workspace\\models\\\\'+CUSTOM_MODEL_NAME}\n",
    "# !cp {PRETRAINED_MODEL_PATH+'/ssd_mobilenet_v2_fpnlite_320x320_coco17_tpu-8/pipeline.config'} {MODEL_PATH+'/'+CUSTOM_MODEL_NAME}"
   ]
  },
  {
   "cell_type": "code",
   "execution_count": 9,
   "metadata": {},
   "outputs": [
    {
     "name": "stderr",
     "output_type": "stream",
     "text": [
      "A subdirectory or file Tensorflow\\workspace\\models\\my_ssd_mobnet already exists.\n"
     ]
    },
    {
     "name": "stdout",
     "output_type": "stream",
     "text": [
      "        1 file(s) copied.\n"
     ]
    }
   ],
   "source": [
    "!mkdir {'Tensorflow\\workspace\\models\\\\'+CUSTOM_MODEL_NAME}\n",
    "!copy { 'Tensorflow\\\\workspace\\\\pre-trained-models\\\\ssd_mobilenet_v2_fpnlite_320x320_coco17_tpu-8\\\\pipeline.config'} {'Tensorflow\\\\workspace\\\\models\\\\'+CUSTOM_MODEL_NAME}"
   ]
  },
  {
   "cell_type": "markdown",
   "metadata": {},
   "source": [
    "# 5. Update Config For Transfer Learning"
   ]
  },
  {
   "cell_type": "code",
   "execution_count": 10,
   "metadata": {},
   "outputs": [],
   "source": [
    "import tensorflow as tf\n",
    "from object_detection.utils import config_util\n",
    "from object_detection.protos import pipeline_pb2\n",
    "from google.protobuf import text_format"
   ]
  },
  {
   "cell_type": "code",
   "execution_count": 11,
   "metadata": {},
   "outputs": [],
   "source": [
    "CONFIG_PATH = MODEL_PATH+'/'+CUSTOM_MODEL_NAME+'/pipeline.config'"
   ]
  },
  {
   "cell_type": "code",
   "execution_count": 12,
   "metadata": {},
   "outputs": [],
   "source": [
    "config = config_util.get_configs_from_pipeline_file(CONFIG_PATH)"
   ]
  },
  {
   "cell_type": "code",
   "execution_count": 13,
   "metadata": {},
   "outputs": [
    {
     "data": {
      "text/plain": [
       "{'model': ssd {\n",
       "   num_classes: 90\n",
       "   image_resizer {\n",
       "     fixed_shape_resizer {\n",
       "       height: 320\n",
       "       width: 320\n",
       "     }\n",
       "   }\n",
       "   feature_extractor {\n",
       "     type: \"ssd_mobilenet_v2_fpn_keras\"\n",
       "     depth_multiplier: 1.0\n",
       "     min_depth: 16\n",
       "     conv_hyperparams {\n",
       "       regularizer {\n",
       "         l2_regularizer {\n",
       "           weight: 3.9999998989515007e-05\n",
       "         }\n",
       "       }\n",
       "       initializer {\n",
       "         random_normal_initializer {\n",
       "           mean: 0.0\n",
       "           stddev: 0.009999999776482582\n",
       "         }\n",
       "       }\n",
       "       activation: RELU_6\n",
       "       batch_norm {\n",
       "         decay: 0.996999979019165\n",
       "         scale: true\n",
       "         epsilon: 0.0010000000474974513\n",
       "       }\n",
       "     }\n",
       "     use_depthwise: true\n",
       "     override_base_feature_extractor_hyperparams: true\n",
       "     fpn {\n",
       "       min_level: 3\n",
       "       max_level: 7\n",
       "       additional_layer_depth: 128\n",
       "     }\n",
       "   }\n",
       "   box_coder {\n",
       "     faster_rcnn_box_coder {\n",
       "       y_scale: 10.0\n",
       "       x_scale: 10.0\n",
       "       height_scale: 5.0\n",
       "       width_scale: 5.0\n",
       "     }\n",
       "   }\n",
       "   matcher {\n",
       "     argmax_matcher {\n",
       "       matched_threshold: 0.5\n",
       "       unmatched_threshold: 0.5\n",
       "       ignore_thresholds: false\n",
       "       negatives_lower_than_unmatched: true\n",
       "       force_match_for_each_row: true\n",
       "       use_matmul_gather: true\n",
       "     }\n",
       "   }\n",
       "   similarity_calculator {\n",
       "     iou_similarity {\n",
       "     }\n",
       "   }\n",
       "   box_predictor {\n",
       "     weight_shared_convolutional_box_predictor {\n",
       "       conv_hyperparams {\n",
       "         regularizer {\n",
       "           l2_regularizer {\n",
       "             weight: 3.9999998989515007e-05\n",
       "           }\n",
       "         }\n",
       "         initializer {\n",
       "           random_normal_initializer {\n",
       "             mean: 0.0\n",
       "             stddev: 0.009999999776482582\n",
       "           }\n",
       "         }\n",
       "         activation: RELU_6\n",
       "         batch_norm {\n",
       "           decay: 0.996999979019165\n",
       "           scale: true\n",
       "           epsilon: 0.0010000000474974513\n",
       "         }\n",
       "       }\n",
       "       depth: 128\n",
       "       num_layers_before_predictor: 4\n",
       "       kernel_size: 3\n",
       "       class_prediction_bias_init: -4.599999904632568\n",
       "       share_prediction_tower: true\n",
       "       use_depthwise: true\n",
       "     }\n",
       "   }\n",
       "   anchor_generator {\n",
       "     multiscale_anchor_generator {\n",
       "       min_level: 3\n",
       "       max_level: 7\n",
       "       anchor_scale: 4.0\n",
       "       aspect_ratios: 1.0\n",
       "       aspect_ratios: 2.0\n",
       "       aspect_ratios: 0.5\n",
       "       scales_per_octave: 2\n",
       "     }\n",
       "   }\n",
       "   post_processing {\n",
       "     batch_non_max_suppression {\n",
       "       score_threshold: 9.99999993922529e-09\n",
       "       iou_threshold: 0.6000000238418579\n",
       "       max_detections_per_class: 100\n",
       "       max_total_detections: 100\n",
       "       use_static_shapes: false\n",
       "     }\n",
       "     score_converter: SIGMOID\n",
       "   }\n",
       "   normalize_loss_by_num_matches: true\n",
       "   loss {\n",
       "     localization_loss {\n",
       "       weighted_smooth_l1 {\n",
       "       }\n",
       "     }\n",
       "     classification_loss {\n",
       "       weighted_sigmoid_focal {\n",
       "         gamma: 2.0\n",
       "         alpha: 0.25\n",
       "       }\n",
       "     }\n",
       "     classification_weight: 1.0\n",
       "     localization_weight: 1.0\n",
       "   }\n",
       "   encode_background_as_zeros: true\n",
       "   normalize_loc_loss_by_codesize: true\n",
       "   inplace_batchnorm_update: true\n",
       "   freeze_batchnorm: false\n",
       " }, 'train_config': batch_size: 128\n",
       " data_augmentation_options {\n",
       "   random_horizontal_flip {\n",
       "   }\n",
       " }\n",
       " data_augmentation_options {\n",
       "   random_crop_image {\n",
       "     min_object_covered: 0.0\n",
       "     min_aspect_ratio: 0.75\n",
       "     max_aspect_ratio: 3.0\n",
       "     min_area: 0.75\n",
       "     max_area: 1.0\n",
       "     overlap_thresh: 0.0\n",
       "   }\n",
       " }\n",
       " sync_replicas: true\n",
       " optimizer {\n",
       "   momentum_optimizer {\n",
       "     learning_rate {\n",
       "       cosine_decay_learning_rate {\n",
       "         learning_rate_base: 0.07999999821186066\n",
       "         total_steps: 50000\n",
       "         warmup_learning_rate: 0.026666000485420227\n",
       "         warmup_steps: 1000\n",
       "       }\n",
       "     }\n",
       "     momentum_optimizer_value: 0.8999999761581421\n",
       "   }\n",
       "   use_moving_average: false\n",
       " }\n",
       " fine_tune_checkpoint: \"PATH_TO_BE_CONFIGURED\"\n",
       " num_steps: 50000\n",
       " startup_delay_steps: 0.0\n",
       " replicas_to_aggregate: 8\n",
       " max_number_of_boxes: 100\n",
       " unpad_groundtruth_tensors: false\n",
       " fine_tune_checkpoint_type: \"classification\"\n",
       " fine_tune_checkpoint_version: V2, 'train_input_config': label_map_path: \"PATH_TO_BE_CONFIGURED\"\n",
       " tf_record_input_reader {\n",
       "   input_path: \"PATH_TO_BE_CONFIGURED\"\n",
       " }, 'eval_config': metrics_set: \"coco_detection_metrics\"\n",
       " use_moving_averages: false, 'eval_input_configs': [label_map_path: \"PATH_TO_BE_CONFIGURED\"\n",
       " shuffle: false\n",
       " num_epochs: 1\n",
       " tf_record_input_reader {\n",
       "   input_path: \"PATH_TO_BE_CONFIGURED\"\n",
       " }\n",
       " ], 'eval_input_config': label_map_path: \"PATH_TO_BE_CONFIGURED\"\n",
       " shuffle: false\n",
       " num_epochs: 1\n",
       " tf_record_input_reader {\n",
       "   input_path: \"PATH_TO_BE_CONFIGURED\"\n",
       " }}"
      ]
     },
     "execution_count": 13,
     "metadata": {},
     "output_type": "execute_result"
    }
   ],
   "source": [
    "config"
   ]
  },
  {
   "cell_type": "code",
   "execution_count": 14,
   "metadata": {},
   "outputs": [],
   "source": [
    "pipeline_config = pipeline_pb2.TrainEvalPipelineConfig()\n",
    "with tf.io.gfile.GFile(CONFIG_PATH, \"r\") as f:                                                                                                                                                                                                                     \n",
    "    proto_str = f.read()                                                                                                                                                                                                                                          \n",
    "    text_format.Merge(proto_str, pipeline_config)  "
   ]
  },
  {
   "cell_type": "code",
   "execution_count": 15,
   "metadata": {},
   "outputs": [],
   "source": [
    "pipeline_config.model.ssd.num_classes = 5\n",
    "pipeline_config.train_config.batch_size = 4\n",
    "pipeline_config.train_config.fine_tune_checkpoint = PRETRAINED_MODEL_PATH+'/ssd_mobilenet_v2_fpnlite_320x320_coco17_tpu-8/checkpoint/ckpt-0'\n",
    "pipeline_config.train_config.fine_tune_checkpoint_type = \"detection\"\n",
    "pipeline_config.train_input_reader.label_map_path= ANNOTATION_PATH + '/label_map.pbtxt'\n",
    "pipeline_config.train_input_reader.tf_record_input_reader.input_path[:] = [ANNOTATION_PATH + '/train.record']\n",
    "pipeline_config.eval_input_reader[0].label_map_path = ANNOTATION_PATH + '/label_map.pbtxt'\n",
    "pipeline_config.eval_input_reader[0].tf_record_input_reader.input_path[:] = [ANNOTATION_PATH + '/test.record']"
   ]
  },
  {
   "cell_type": "code",
   "execution_count": 16,
   "metadata": {},
   "outputs": [],
   "source": [
    "config_text = text_format.MessageToString(pipeline_config)                                                                                                                                                                                                        \n",
    "with tf.io.gfile.GFile(CONFIG_PATH, \"wb\") as f:                                                                                                                                                                                                                     \n",
    "    f.write(config_text)   "
   ]
  },
  {
   "cell_type": "markdown",
   "metadata": {},
   "source": [
    "# 6. Train the model"
   ]
  },
  {
   "cell_type": "code",
   "execution_count": 17,
   "metadata": {},
   "outputs": [
    {
     "name": "stdout",
     "output_type": "stream",
     "text": [
      "python Tensorflow/models/research/object_detection/model_main_tf2.py --model_dir=Tensorflow/workspace/models/my_ssd_mobnet --pipeline_config_path=Tensorflow/workspace/models/my_ssd_mobnet/pipeline.config --num_train_steps=5000\n"
     ]
    }
   ],
   "source": [
    "print(\"\"\"python {}/research/object_detection/model_main_tf2.py --model_dir={}/{} --pipeline_config_path={}/{}/pipeline.config --num_train_steps=5000\"\"\".format(APIMODEL_PATH, MODEL_PATH,CUSTOM_MODEL_NAME,MODEL_PATH,CUSTOM_MODEL_NAME))"
   ]
  },
  {
   "cell_type": "markdown",
   "metadata": {},
   "source": [
    "# 7. Load Train Model From Checkpoint"
   ]
  },
  {
   "cell_type": "code",
   "execution_count": 18,
   "metadata": {},
   "outputs": [],
   "source": [
    "import os\n",
    "from object_detection.utils import label_map_util\n",
    "from object_detection.utils import visualization_utils as viz_utils\n",
    "from object_detection.builders import model_builder"
   ]
  },
  {
   "cell_type": "code",
   "execution_count": 19,
   "metadata": {},
   "outputs": [],
   "source": [
    "# Load pipeline config and build a detection model\n",
    "configs = config_util.get_configs_from_pipeline_file(CONFIG_PATH)\n",
    "detection_model = model_builder.build(model_config=configs['model'], is_training=False)\n",
    "\n",
    "# Restore checkpoint\n",
    "ckpt = tf.compat.v2.train.Checkpoint(model=detection_model)\n",
    "ckpt.restore(os.path.join(CHECKPOINT_PATH, 'ckpt-8')).expect_partial()\n",
    "\n",
    "@tf.function\n",
    "def detect_fn(image):\n",
    "    image, shapes = detection_model.preprocess(image)\n",
    "    prediction_dict = detection_model.predict(image, shapes)\n",
    "    detections = detection_model.postprocess(prediction_dict, shapes)\n",
    "    return detections"
   ]
  },
  {
   "cell_type": "markdown",
   "metadata": {},
   "source": [
    "# 8. Detect in Real-Time"
   ]
  },
  {
   "cell_type": "code",
   "execution_count": 20,
   "metadata": {},
   "outputs": [],
   "source": [
    "import cv2 \n",
    "import numpy as np"
   ]
  },
  {
   "cell_type": "code",
   "execution_count": 21,
   "metadata": {},
   "outputs": [],
   "source": [
    "category_index = label_map_util.create_category_index_from_labelmap(ANNOTATION_PATH+'/label_map.pbtxt')"
   ]
  },
  {
   "cell_type": "code",
   "execution_count": 22,
   "metadata": {},
   "outputs": [],
   "source": [
    "# Setup capture\n",
    "cap = cv2.VideoCapture(0)\n",
    "width = int(cap.get(cv2.CAP_PROP_FRAME_WIDTH))\n",
    "height = int(cap.get(cv2.CAP_PROP_FRAME_HEIGHT))"
   ]
  },
  {
   "cell_type": "code",
   "execution_count": 23,
   "metadata": {},
   "outputs": [],
   "source": [
    "while True: \n",
    "    ret, frame = cap.read()\n",
    "    image_np = np.array(frame)\n",
    "    \n",
    "    input_tensor = tf.convert_to_tensor(np.expand_dims(image_np, 0), dtype=tf.float32)\n",
    "    detections = detect_fn(input_tensor)\n",
    "    \n",
    "    num_detections = int(detections.pop('num_detections'))\n",
    "    detections = {key: value[0, :num_detections].numpy()\n",
    "                  for key, value in detections.items()}\n",
    "    detections['num_detections'] = num_detections\n",
    "\n",
    "    # detection_classes should be ints.\n",
    "    detections['detection_classes'] = detections['detection_classes'].astype(np.int64)\n",
    "\n",
    "    label_id_offset = 1\n",
    "    image_np_with_detections = image_np.copy()\n",
    "\n",
    "    viz_utils.visualize_boxes_and_labels_on_image_array(\n",
    "                image_np_with_detections,\n",
    "                detections['detection_boxes'],\n",
    "                detections['detection_classes']+label_id_offset,\n",
    "                detections['detection_scores'],\n",
    "                category_index,\n",
    "                use_normalized_coordinates=True,\n",
    "                max_boxes_to_draw=5,\n",
    "                min_score_thresh=.5,\n",
    "                agnostic_mode=False)\n",
    "\n",
    "    cv2.imshow('object detection',  cv2.resize(image_np_with_detections, (800, 600)))\n",
    "           \n",
    "    \n",
    "    if cv2.waitKey(1) & 0xFF == ord('q'):\n",
    "        cap.release()\n",
    "        break"
   ]
  },
  {
   "cell_type": "code",
   "execution_count": 24,
   "metadata": {},
   "outputs": [],
   "source": [
    "cap.release()"
   ]
  },
  {
   "cell_type": "code",
   "execution_count": 25,
   "metadata": {},
   "outputs": [],
   "source": [
    "detections = detect_fn(input_tensor)"
   ]
  },
  {
   "cell_type": "code",
   "execution_count": 26,
   "metadata": {},
   "outputs": [],
   "source": [
    "from matplotlib import pyplot as plt"
   ]
  },
  {
   "cell_type": "code",
   "execution_count": 27,
   "metadata": {},
   "outputs": [
    {
     "data": {
      "text/plain": [
       "{'detection_boxes': <tf.Tensor: shape=(1, 100, 4), dtype=float32, numpy=\n",
       " array([[[1.97879851e-01, 3.38202178e-01, 5.42116106e-01, 6.21707678e-01],\n",
       "         [1.79076642e-02, 6.80146456e-01, 4.95222747e-01, 1.00000000e+00],\n",
       "         [2.27259994e-02, 6.98386550e-01, 1.78965017e-01, 1.00000000e+00],\n",
       "         [2.38954872e-02, 6.71392977e-01, 4.89930272e-01, 1.00000000e+00],\n",
       "         [2.36396715e-02, 6.17194831e-01, 2.65881002e-01, 1.00000000e+00],\n",
       "         [6.56598032e-01, 2.58466363e-01, 1.00000000e+00, 8.23406458e-01],\n",
       "         [8.58391821e-03, 7.53028393e-01, 3.70626271e-01, 1.00000000e+00],\n",
       "         [1.98308259e-01, 3.63289207e-01, 5.51369905e-01, 6.46096468e-01],\n",
       "         [0.00000000e+00, 7.32364535e-01, 4.90944982e-01, 9.89911556e-01],\n",
       "         [4.42762613e-01, 2.51944304e-01, 7.95935154e-01, 4.39072490e-01],\n",
       "         [1.95365369e-01, 3.65210533e-01, 4.32066917e-01, 5.90340614e-01],\n",
       "         [2.78421044e-02, 7.54966736e-01, 2.41057962e-01, 1.00000000e+00],\n",
       "         [1.80339813e-03, 6.65718317e-03, 1.64565787e-01, 2.90545940e-01],\n",
       "         [2.42422163e-01, 8.42358619e-02, 8.38445008e-01, 4.20837104e-01],\n",
       "         [4.65653837e-03, 5.69144785e-01, 3.75153601e-01, 9.88152921e-01],\n",
       "         [2.75466591e-03, 5.50494671e-01, 2.02119231e-01, 9.33034778e-01],\n",
       "         [6.18349016e-02, 2.77534634e-01, 1.65818453e-01, 4.92043048e-01],\n",
       "         [1.92219481e-01, 3.42989802e-01, 5.43348372e-01, 6.13541782e-01],\n",
       "         [2.98397616e-02, 3.76980126e-01, 2.42778510e-01, 5.79108179e-01],\n",
       "         [2.06002265e-01, 3.40181857e-01, 4.09265548e-01, 6.00795865e-01],\n",
       "         [4.07063812e-01, 1.18047446e-01, 7.60462403e-01, 4.62013870e-01],\n",
       "         [2.20079646e-02, 0.00000000e+00, 2.20243961e-01, 2.27091148e-01],\n",
       "         [2.81135023e-01, 7.20752478e-01, 4.97217238e-01, 9.96002197e-01],\n",
       "         [6.96143091e-01, 2.28902251e-01, 9.77181137e-01, 6.52277231e-01],\n",
       "         [4.35777903e-02, 7.13151395e-01, 5.91150939e-01, 1.00000000e+00],\n",
       "         [7.86124021e-02, 7.42467880e-01, 5.52725792e-01, 1.00000000e+00],\n",
       "         [1.44446567e-01, 7.47690737e-01, 5.00949144e-01, 9.66992319e-01],\n",
       "         [4.98758107e-01, 1.10341877e-01, 1.00000000e+00, 9.16697621e-01],\n",
       "         [0.00000000e+00, 3.91653776e-01, 4.05436158e-01, 9.85318780e-01],\n",
       "         [1.39284238e-01, 6.91849172e-01, 4.82911587e-01, 8.65769684e-01],\n",
       "         [4.61512685e-01, 6.85976923e-01, 7.84633398e-01, 8.62554967e-01],\n",
       "         [6.93137169e-01, 2.49876171e-01, 1.00000000e+00, 6.79234862e-01],\n",
       "         [8.51884186e-02, 3.29019099e-01, 1.80772334e-01, 5.26515007e-01],\n",
       "         [0.00000000e+00, 0.00000000e+00, 1.00000000e+00, 1.00000000e+00],\n",
       "         [5.68495318e-02, 6.49218261e-03, 2.55553991e-01, 1.73625380e-01],\n",
       "         [2.40455344e-02, 1.04626432e-01, 2.20602095e-01, 4.56835270e-01],\n",
       "         [6.58544302e-01, 0.00000000e+00, 9.98190165e-01, 1.69732004e-01],\n",
       "         [1.95365369e-01, 3.65210533e-01, 4.32066917e-01, 5.90340614e-01],\n",
       "         [2.40455344e-02, 1.04626432e-01, 2.20602095e-01, 4.56835270e-01],\n",
       "         [7.92833716e-02, 2.45404392e-01, 1.87176093e-01, 4.56453830e-01],\n",
       "         [0.00000000e+00, 0.00000000e+00, 1.00000000e+00, 1.00000000e+00],\n",
       "         [3.34854499e-02, 2.86154002e-02, 1.99840605e-01, 3.08068275e-01],\n",
       "         [2.94105142e-01, 2.57292330e-01, 9.89586353e-01, 6.76968813e-01],\n",
       "         [0.00000000e+00, 3.70168328e-01, 1.00000000e+00, 1.00000000e+00],\n",
       "         [0.00000000e+00, 0.00000000e+00, 1.00000000e+00, 8.96470368e-01],\n",
       "         [3.06458324e-02, 3.20052475e-01, 2.40119681e-01, 5.27194023e-01],\n",
       "         [4.79463100e-01, 3.05839837e-01, 7.27625966e-01, 4.26689804e-01],\n",
       "         [9.00534317e-02, 3.50971699e-01, 1.73695862e-01, 5.14460683e-01],\n",
       "         [1.06409788e-01, 5.10927290e-03, 3.02855313e-01, 1.61480665e-01],\n",
       "         [1.85757950e-02, 0.00000000e+00, 2.32268751e-01, 1.62510008e-01],\n",
       "         [0.00000000e+00, 2.83663124e-02, 1.29021332e-01, 3.19464922e-01],\n",
       "         [2.16224715e-01, 3.53714883e-01, 4.31419790e-01, 4.62787807e-01],\n",
       "         [1.40464082e-02, 4.73361522e-01, 2.43618101e-01, 8.25416088e-01],\n",
       "         [2.93427229e-01, 1.44220948e-01, 9.66658235e-01, 5.38375735e-01],\n",
       "         [0.00000000e+00, 8.11489448e-02, 1.24963351e-01, 1.86232358e-01],\n",
       "         [1.75811112e-01, 3.42353255e-01, 3.33337665e-01, 5.85985541e-01],\n",
       "         [1.69401556e-01, 4.37381864e-01, 2.69213855e-01, 5.42695284e-01],\n",
       "         [0.00000000e+00, 0.00000000e+00, 1.00000000e+00, 1.00000000e+00],\n",
       "         [6.72940433e-01, 1.37599915e-01, 9.97144878e-01, 6.31466389e-01],\n",
       "         [7.21261203e-01, 1.66173741e-01, 9.36502516e-01, 5.07791579e-01],\n",
       "         [1.52940065e-01, 1.28011420e-01, 8.12929749e-01, 5.48613966e-01],\n",
       "         [2.44075626e-01, 3.46781641e-01, 3.95650953e-01, 4.30388719e-01],\n",
       "         [5.12391925e-01, 5.82240999e-01, 7.25549340e-01, 6.87025487e-01],\n",
       "         [3.31924632e-02, 6.03480577e-01, 1.36464387e-01, 7.84286022e-01],\n",
       "         [7.74918497e-02, 1.67369246e-02, 2.42306918e-01, 2.71389484e-01],\n",
       "         [7.31986165e-01, 2.62858808e-01, 1.00000000e+00, 6.82433724e-01],\n",
       "         [3.60817462e-01, 3.35205019e-01, 5.63179135e-01, 4.30797279e-01],\n",
       "         [1.45267710e-01, 7.11916745e-01, 5.10933936e-01, 9.96769965e-01],\n",
       "         [4.74566191e-01, 8.05275977e-01, 5.53460360e-01, 9.20641959e-01],\n",
       "         [3.38025391e-03, 5.08528650e-01, 1.78413913e-01, 7.86482155e-01],\n",
       "         [4.42762613e-01, 2.51944304e-01, 7.95935154e-01, 4.39072490e-01],\n",
       "         [2.64131650e-02, 4.19702381e-01, 2.36337453e-01, 6.39126062e-01],\n",
       "         [2.13236511e-02, 1.10433996e-02, 2.08275169e-01, 3.66625100e-01],\n",
       "         [0.00000000e+00, 1.25763729e-01, 1.40249848e-01, 2.27895632e-01],\n",
       "         [4.65653837e-03, 5.69144785e-01, 3.75153601e-01, 9.88152921e-01],\n",
       "         [2.19460726e-01, 3.65861923e-01, 3.36022913e-01, 4.54584688e-01],\n",
       "         [4.41646099e-01, 2.17015728e-01, 5.38730383e-01, 3.09541702e-01],\n",
       "         [1.97370410e-01, 3.30113828e-01, 5.84785700e-01, 5.57223499e-01],\n",
       "         [2.31504589e-02, 5.79904079e-01, 1.02849826e-01, 6.92432046e-01],\n",
       "         [8.50217715e-02, 2.85356402e-01, 1.82269812e-01, 4.89981532e-01],\n",
       "         [0.00000000e+00, 0.00000000e+00, 7.68239498e-01, 1.00000000e+00],\n",
       "         [4.43369806e-01, 6.44493163e-01, 9.16182458e-01, 8.94374669e-01],\n",
       "         [4.43756789e-01, 7.36058831e-01, 8.83454084e-01, 1.00000000e+00],\n",
       "         [6.91806138e-01, 1.60594553e-01, 1.00000000e+00, 7.56120086e-01],\n",
       "         [7.45587051e-03, 7.83557415e-01, 1.69293433e-01, 1.00000000e+00],\n",
       "         [5.26648581e-01, 6.00678921e-01, 9.90091264e-01, 9.21761513e-01],\n",
       "         [0.00000000e+00, 3.34425755e-02, 1.11673504e-01, 1.40472412e-01],\n",
       "         [1.71081543e-01, 3.67041886e-01, 3.24616820e-01, 6.14300907e-01],\n",
       "         [0.00000000e+00, 2.86346823e-01, 1.00492135e-01, 4.89693493e-01],\n",
       "         [3.34523082e-01, 6.92002773e-01, 9.69668388e-01, 1.00000000e+00],\n",
       "         [7.40833998e-01, 6.76757693e-01, 1.00000000e+00, 8.51743937e-01],\n",
       "         [2.15086147e-01, 4.55461919e-01, 5.29825449e-01, 6.45652235e-01],\n",
       "         [8.65200162e-02, 7.27552831e-01, 4.55667794e-01, 9.18185294e-01],\n",
       "         [7.88067579e-01, 4.45260584e-01, 9.95127082e-01, 7.86840022e-01],\n",
       "         [0.00000000e+00, 7.46667445e-01, 1.15498081e-01, 9.62199152e-01],\n",
       "         [6.43677413e-02, 4.57134664e-01, 1.49776250e-01, 5.88826001e-01],\n",
       "         [7.31555045e-01, 1.77855283e-01, 1.00000000e+00, 5.82323909e-01],\n",
       "         [5.53525448e-01, 5.40633500e-03, 1.00000000e+00, 3.45433891e-01],\n",
       "         [2.79253513e-01, 3.43622208e-01, 4.38225001e-01, 4.27539945e-01],\n",
       "         [0.00000000e+00, 9.47311521e-04, 1.99869558e-01, 3.34306121e-01]]],\n",
       "       dtype=float32)>,\n",
       " 'detection_scores': <tf.Tensor: shape=(1, 100), dtype=float32, numpy=\n",
       " array([[0.3848965 , 0.2916831 , 0.2609359 , 0.19673178, 0.16773792,\n",
       "         0.06448276, 0.06374   , 0.03970481, 0.03444405, 0.03146601,\n",
       "         0.03086483, 0.02732632, 0.0273033 , 0.02726683, 0.0272121 ,\n",
       "         0.02636161, 0.02582073, 0.02568137, 0.02535092, 0.02113508,\n",
       "         0.02052759, 0.02013583, 0.01948418, 0.01892498, 0.01871596,\n",
       "         0.01859958, 0.01766755, 0.01759615, 0.01742334, 0.01728257,\n",
       "         0.01688759, 0.01644781, 0.01629436, 0.01612074, 0.01602801,\n",
       "         0.01585042, 0.01568323, 0.01516763, 0.01515019, 0.01491291,\n",
       "         0.0146763 , 0.01422883, 0.01406496, 0.01405667, 0.0140456 ,\n",
       "         0.01402883, 0.01402226, 0.01395061, 0.01367488, 0.01363879,\n",
       "         0.01354057, 0.01350631, 0.01348919, 0.01344364, 0.01343016,\n",
       "         0.01342964, 0.0131657 , 0.01315786, 0.01313528, 0.01308237,\n",
       "         0.01303446, 0.01296619, 0.0129375 , 0.01291927, 0.01281936,\n",
       "         0.0127241 , 0.01256454, 0.01231905, 0.01215419, 0.01210271,\n",
       "         0.01208101, 0.01205419, 0.01182775, 0.011765  , 0.01173421,\n",
       "         0.01162397, 0.01131965, 0.01126914, 0.01123614, 0.01110312,\n",
       "         0.01107773, 0.01092982, 0.01073177, 0.01071989, 0.01060516,\n",
       "         0.01060355, 0.01053963, 0.01049924, 0.01043725, 0.01039141,\n",
       "         0.01025903, 0.01025324, 0.01024876, 0.01022849, 0.01020414,\n",
       "         0.01020403, 0.01019879, 0.01006713, 0.0099786 , 0.00996895]],\n",
       "       dtype=float32)>,\n",
       " 'detection_classes': <tf.Tensor: shape=(1, 100), dtype=float32, numpy=\n",
       " array([[1., 3., 3., 1., 3., 4., 3., 0., 0., 3., 3., 3., 3., 0., 3., 3.,\n",
       "         1., 3., 1., 1., 3., 3., 1., 3., 1., 3., 1., 4., 3., 1., 3., 1.,\n",
       "         1., 1., 3., 1., 1., 4., 4., 1., 1., 3., 4., 3., 3., 1., 1., 4.,\n",
       "         3., 3., 3., 1., 3., 4., 2., 3., 1., 4., 4., 3., 0., 1., 1., 3.,\n",
       "         3., 4., 1., 2., 3., 3., 1., 1., 4., 2., 1., 1., 3., 0., 1., 4.,\n",
       "         4., 3., 0., 4., 3., 2., 2., 4., 1., 4., 2., 1., 1., 2., 3., 0.,\n",
       "         0., 2., 1., 3.]], dtype=float32)>,\n",
       " 'num_detections': <tf.Tensor: shape=(1,), dtype=float32, numpy=array([100.], dtype=float32)>,\n",
       " 'raw_detection_boxes': <tf.Tensor: shape=(1, 12804, 4), dtype=float32, numpy=\n",
       " array([[[-0.03370307, -0.02882594,  0.07271349,  0.1285022 ],\n",
       "         [-0.05485092, -0.05312331,  0.10085078,  0.15143353],\n",
       "         [-0.0216132 , -0.03234116,  0.06178698,  0.1327905 ],\n",
       "         ...,\n",
       "         [-0.24220705, -0.75965065,  1.612329  ,  1.8445172 ],\n",
       "         [-0.4134295 ,  0.08060294,  1.6284575 ,  1.2608075 ],\n",
       "         [-0.7819348 , -0.29158956,  1.9197953 ,  1.5320029 ]]],\n",
       "       dtype=float32)>,\n",
       " 'raw_detection_scores': <tf.Tensor: shape=(1, 12804, 6), dtype=float32, numpy=\n",
       " array([[[0.00282311, 0.00137939, 0.00171486, 0.00783722, 0.00165908,\n",
       "          0.0010343 ],\n",
       "         [0.00341494, 0.00011778, 0.00037423, 0.00579597, 0.00049732,\n",
       "          0.0018886 ],\n",
       "         [0.00136855, 0.0036202 , 0.00186206, 0.00588634, 0.00247464,\n",
       "          0.00084173],\n",
       "         ...,\n",
       "         [0.00455123, 0.00382856, 0.00286708, 0.00490366, 0.00192131,\n",
       "          0.00318792],\n",
       "         [0.00530646, 0.00206839, 0.00391246, 0.00519892, 0.00244621,\n",
       "          0.00675277],\n",
       "         [0.00552919, 0.0028656 , 0.00222431, 0.00294216, 0.00155501,\n",
       "          0.00734118]]], dtype=float32)>,\n",
       " 'detection_multiclass_scores': <tf.Tensor: shape=(1, 100, 6), dtype=float32, numpy=\n",
       " array([[[3.16587836e-03, 3.32010575e-02, 3.84896487e-01, 4.45210608e-03,\n",
       "          1.48620587e-02, 2.72953487e-03],\n",
       "         [1.41696399e-03, 9.22812556e-04, 1.48214951e-01, 1.24776177e-03,\n",
       "          2.91683108e-01, 3.59195517e-03],\n",
       "         [3.90827470e-03, 4.77316556e-03, 9.59665887e-03, 2.95394100e-03,\n",
       "          2.60935903e-01, 5.93901426e-03],\n",
       "         [3.79943033e-03, 1.70672568e-03, 1.96731776e-01, 1.76748831e-03,\n",
       "          2.27212265e-01, 1.80850748e-03],\n",
       "         [2.03687465e-03, 3.38012190e-03, 2.17738491e-03, 8.38749926e-04,\n",
       "          1.67737916e-01, 7.51617737e-03],\n",
       "         [3.28922831e-03, 3.01358779e-03, 5.87371120e-04, 2.67081265e-03,\n",
       "          2.57024704e-03, 6.44827560e-02],\n",
       "         [7.19863921e-03, 4.72485408e-04, 9.33631044e-03, 3.83345620e-03,\n",
       "          6.37400001e-02, 3.78461252e-03],\n",
       "         [3.75493942e-03, 3.97048108e-02, 1.90419614e-01, 3.41985375e-03,\n",
       "          9.33884177e-03, 2.90449429e-03],\n",
       "         [7.24067399e-03, 3.44440490e-02, 4.84586544e-02, 7.26209022e-03,\n",
       "          7.40281446e-03, 4.18809475e-03],\n",
       "         [3.37017258e-03, 2.22047349e-03, 1.20810093e-02, 4.36889660e-03,\n",
       "          3.14660147e-02, 4.62856283e-03],\n",
       "         [2.40954314e-03, 1.08616264e-03, 1.54982992e-02, 3.91139649e-03,\n",
       "          3.08648292e-02, 1.51676303e-02],\n",
       "         [2.79428624e-03, 3.10978532e-04, 3.84682487e-03, 1.72474142e-03,\n",
       "          2.73263194e-02, 3.75733757e-03],\n",
       "         [3.77146970e-03, 3.86046898e-03, 3.72510101e-03, 3.47082899e-03,\n",
       "          2.73033045e-02, 2.34297849e-03],\n",
       "         [1.46667706e-03, 2.72668321e-02, 1.51970505e-03, 1.54706906e-03,\n",
       "          6.68281864e-04, 2.01634853e-03],\n",
       "         [3.53601389e-03, 4.24316060e-03, 1.17342118e-02, 1.76046044e-03,\n",
       "          2.72121038e-02, 1.21114892e-03],\n",
       "         [1.68596476e-03, 1.94319431e-03, 2.51717982e-03, 1.87329983e-03,\n",
       "          2.63616145e-02, 1.26525620e-03],\n",
       "         [2.34368979e-03, 6.96732756e-03, 2.58207265e-02, 2.66465475e-03,\n",
       "          3.04732635e-03, 8.98757763e-03],\n",
       "         [2.85195513e-03, 1.81204490e-02, 1.89325541e-01, 4.98842215e-03,\n",
       "          2.56813653e-02, 4.11704183e-03],\n",
       "         [3.18108615e-03, 7.06138695e-03, 2.53509190e-02, 2.67019053e-03,\n",
       "          1.36096310e-03, 2.95236148e-03],\n",
       "         [8.68425332e-03, 2.78644194e-03, 2.11350750e-02, 6.51697395e-03,\n",
       "          2.79859919e-02, 5.04917139e-03],\n",
       "         [5.35235135e-03, 2.23616720e-03, 2.23577674e-03, 4.08193562e-03,\n",
       "          2.05275863e-02, 1.23683480e-03],\n",
       "         [2.51655746e-03, 2.23412551e-03, 4.56032855e-03, 2.12923833e-03,\n",
       "          2.01358255e-02, 1.30727526e-03],\n",
       "         [1.29614200e-03, 4.99491813e-03, 1.94841772e-02, 4.51148860e-03,\n",
       "          2.41457694e-03, 4.20824997e-03],\n",
       "         [3.56844673e-03, 3.63225047e-03, 2.78564473e-03, 1.73579529e-03,\n",
       "          1.89249814e-02, 2.44769314e-03],\n",
       "         [3.05140554e-03, 3.51684354e-03, 1.87159572e-02, 2.45194999e-03,\n",
       "          1.15586184e-02, 1.82815781e-03],\n",
       "         [3.63663654e-03, 3.74224037e-03, 1.16616851e-02, 4.48605698e-03,\n",
       "          1.85995772e-02, 1.75694947e-03],\n",
       "         [5.86773548e-03, 6.95580384e-03, 1.76675543e-02, 3.15665361e-03,\n",
       "          3.40585975e-04, 9.54279734e-04],\n",
       "         [5.15850959e-03, 4.68987244e-04, 3.12815979e-03, 3.59785301e-03,\n",
       "          5.60434675e-03, 1.75961461e-02],\n",
       "         [2.37631192e-03, 2.01636949e-03, 2.59786705e-03, 1.41676480e-03,\n",
       "          1.74233392e-02, 2.75433669e-03],\n",
       "         [1.66760047e-03, 1.90771208e-03, 1.72825698e-02, 2.75349361e-03,\n",
       "          4.54146211e-04, 6.19803206e-04],\n",
       "         [5.21303155e-03, 1.11361255e-03, 6.81835972e-03, 2.73837661e-03,\n",
       "          1.68875884e-02, 1.80677813e-03],\n",
       "         [5.77430567e-03, 8.25870316e-03, 1.64478142e-02, 3.83789255e-03,\n",
       "          6.37922250e-03, 4.46814485e-03],\n",
       "         [2.43970286e-03, 6.75357832e-03, 1.62943602e-02, 2.35541794e-03,\n",
       "          2.01738230e-03, 8.13190546e-03],\n",
       "         [3.85276764e-03, 6.13223622e-03, 1.61207449e-02, 3.04281712e-03,\n",
       "          6.82957994e-04, 1.22157345e-03],\n",
       "         [2.12397752e-03, 2.95750331e-03, 7.31848879e-03, 1.61323638e-03,\n",
       "          1.60280056e-02, 4.07680403e-03],\n",
       "         [4.00990853e-03, 6.26147958e-03, 1.58504192e-02, 3.40339518e-03,\n",
       "          3.82254552e-03, 1.51501894e-02],\n",
       "         [1.21996470e-03, 1.83377112e-03, 1.56832319e-02, 1.53171539e-03,\n",
       "          3.30009242e-03, 5.98168001e-04],\n",
       "         [2.40954314e-03, 1.08616264e-03, 1.54982992e-02, 3.91139649e-03,\n",
       "          3.08648292e-02, 1.51676303e-02],\n",
       "         [4.00990853e-03, 6.26147958e-03, 1.58504192e-02, 3.40339518e-03,\n",
       "          3.82254552e-03, 1.51501894e-02],\n",
       "         [2.05087452e-03, 7.41262781e-03, 1.49129117e-02, 3.14294966e-03,\n",
       "          2.33122101e-03, 5.35657210e-03],\n",
       "         [4.47594374e-03, 7.79146608e-03, 1.46762952e-02, 5.00463275e-03,\n",
       "          3.21643241e-03, 1.31578576e-02],\n",
       "         [6.35244278e-03, 8.40688590e-03, 8.44186638e-03, 3.46252834e-03,\n",
       "          1.42288255e-02, 6.30146451e-03],\n",
       "         [1.94264227e-03, 1.23804412e-03, 2.33419443e-04, 1.26649509e-03,\n",
       "          3.46208020e-04, 1.40649639e-02],\n",
       "         [3.18240933e-03, 5.94376493e-03, 1.11623539e-03, 2.40270444e-03,\n",
       "          1.40566733e-02, 1.50094216e-03],\n",
       "         [6.00124570e-03, 9.18059726e-04, 7.51051528e-04, 2.15974101e-03,\n",
       "          1.40455961e-02, 1.88516942e-03],\n",
       "         [4.22534160e-03, 7.03550316e-03, 1.40288323e-02, 2.18565320e-03,\n",
       "          7.75379944e-04, 2.18876079e-03],\n",
       "         [3.57208541e-03, 1.77322794e-03, 1.40222572e-02, 4.95778117e-03,\n",
       "          5.29175485e-03, 3.15637304e-03],\n",
       "         [4.56282543e-03, 8.85306485e-03, 2.13895622e-03, 5.77868149e-03,\n",
       "          2.26195552e-03, 1.39506059e-02],\n",
       "         [2.40629259e-03, 3.33143864e-03, 5.30226948e-03, 2.04076152e-03,\n",
       "          1.36748822e-02, 4.52606566e-03],\n",
       "         [2.92103365e-03, 4.34434507e-03, 3.76218325e-03, 2.55934615e-03,\n",
       "          1.36387851e-02, 2.23041349e-03],\n",
       "         [5.76172397e-03, 2.74723419e-03, 2.04474689e-03, 4.78638941e-03,\n",
       "          1.35405716e-02, 3.66414571e-03],\n",
       "         [4.33093030e-03, 1.44894840e-03, 1.35063119e-02, 2.92333146e-03,\n",
       "          6.88754022e-03, 2.40337197e-03],\n",
       "         [2.94983038e-03, 4.07590158e-03, 4.99888696e-03, 2.01935228e-03,\n",
       "          1.34891924e-02, 4.26906114e-03],\n",
       "         [1.83085899e-03, 3.52119072e-03, 4.60845680e-04, 1.65297161e-03,\n",
       "          4.11706773e-04, 1.34436395e-02],\n",
       "         [2.89870123e-03, 1.11397333e-03, 4.66701633e-04, 1.34301567e-02,\n",
       "          4.09989938e-04, 3.69745586e-03],\n",
       "         [2.42244941e-03, 1.85255671e-03, 4.15972853e-03, 5.75589761e-03,\n",
       "          1.34296445e-02, 7.33859790e-03],\n",
       "         [2.32370431e-03, 3.02185141e-03, 1.31657030e-02, 2.80151842e-03,\n",
       "          3.22236656e-03, 2.07683351e-03],\n",
       "         [4.47594374e-03, 7.79146608e-03, 1.46762952e-02, 5.00463275e-03,\n",
       "          3.21643241e-03, 1.31578576e-02],\n",
       "         [2.93048564e-03, 2.60797609e-03, 3.94701288e-04, 2.25763675e-03,\n",
       "          3.76149721e-04, 1.31352833e-02],\n",
       "         [2.44862726e-03, 3.73862265e-03, 1.68844569e-03, 5.33737242e-03,\n",
       "          1.30823655e-02, 1.65267417e-03],\n",
       "         [1.97773287e-03, 1.30344564e-02, 8.71615193e-04, 2.39988184e-03,\n",
       "          1.43359706e-03, 2.54376652e-03],\n",
       "         [4.20532376e-03, 2.89295451e-03, 1.29661942e-02, 1.87715457e-03,\n",
       "          5.69773791e-03, 2.65506655e-03],\n",
       "         [4.51022945e-03, 3.21086450e-03, 1.29374992e-02, 4.41512605e-03,\n",
       "          5.61175728e-03, 2.36589229e-03],\n",
       "         [4.65313066e-03, 2.28212005e-03, 5.61158499e-03, 3.01092304e-03,\n",
       "          1.29192686e-02, 2.66169105e-03],\n",
       "         [6.17079297e-03, 6.30154507e-03, 9.45253205e-03, 3.90488468e-03,\n",
       "          1.28193554e-02, 4.03090008e-03],\n",
       "         [3.87331494e-03, 2.74833583e-04, 1.20781944e-03, 6.88405475e-03,\n",
       "          3.78428958e-04, 1.27241043e-02],\n",
       "         [2.54034111e-03, 2.23024585e-03, 1.25645353e-02, 2.80834991e-03,\n",
       "          1.87507411e-03, 1.26181846e-03],\n",
       "         [5.57865016e-03, 7.36640813e-03, 4.15552175e-03, 1.23190479e-02,\n",
       "          2.15385575e-04, 1.20607379e-03],\n",
       "         [2.61499081e-03, 2.98020244e-03, 3.63161694e-03, 1.81102531e-03,\n",
       "          1.21541936e-02, 2.69737793e-03],\n",
       "         [5.89318015e-03, 4.42201691e-03, 3.12265684e-03, 3.24675650e-03,\n",
       "          1.21027054e-02, 5.56165120e-03],\n",
       "         [3.37017258e-03, 2.22047349e-03, 1.20810093e-02, 4.36889660e-03,\n",
       "          3.14660147e-02, 4.62856283e-03],\n",
       "         [2.62874691e-03, 4.56280308e-03, 1.20541882e-02, 3.15481750e-03,\n",
       "          1.65866443e-03, 3.61210317e-03],\n",
       "         [4.54179617e-03, 6.36285311e-03, 8.87073390e-03, 3.92293558e-03,\n",
       "          7.41299614e-03, 1.18277520e-02],\n",
       "         [2.47604796e-03, 7.09988293e-04, 3.16192047e-04, 1.17650013e-02,\n",
       "          2.09390171e-04, 2.85336142e-03],\n",
       "         [3.53601389e-03, 4.24316060e-03, 1.17342118e-02, 1.76046044e-03,\n",
       "          2.72121038e-02, 1.21114892e-03],\n",
       "         [2.65230634e-03, 1.51703763e-03, 1.16239674e-02, 1.57318998e-03,\n",
       "          4.18704702e-03, 9.80314100e-04],\n",
       "         [2.39142287e-03, 1.25518302e-03, 2.92857201e-03, 2.98631517e-03,\n",
       "          1.13196494e-02, 1.68945547e-03],\n",
       "         [1.19734462e-03, 1.12691438e-02, 1.68524254e-02, 4.19170968e-03,\n",
       "          3.87413008e-03, 3.16486252e-03],\n",
       "         [3.69169679e-03, 6.98423665e-03, 1.12361396e-02, 1.86152628e-03,\n",
       "          3.92676238e-03, 4.91597969e-03],\n",
       "         [2.33609485e-03, 7.83861056e-03, 2.31404565e-02, 3.10510187e-03,\n",
       "          3.25042219e-03, 1.11031178e-02],\n",
       "         [5.12597058e-03, 4.80574602e-03, 5.51774539e-03, 5.23717003e-03,\n",
       "          3.23915482e-03, 1.10777272e-02],\n",
       "         [3.47620808e-03, 4.98778559e-03, 4.01797425e-03, 3.90519039e-03,\n",
       "          1.09298201e-02, 3.77595867e-03],\n",
       "         [4.34449967e-03, 1.07317697e-02, 3.85082653e-03, 2.42897659e-03,\n",
       "          3.24092386e-03, 1.61752151e-03],\n",
       "         [1.11052243e-03, 2.22322429e-04, 1.44789333e-03, 4.05590562e-03,\n",
       "          8.11470454e-05, 1.07198898e-02],\n",
       "         [7.67346285e-03, 2.63957074e-03, 2.49301130e-03, 2.54179048e-03,\n",
       "          1.06051601e-02, 2.66123260e-03],\n",
       "         [1.81970932e-03, 3.14554869e-04, 7.04751001e-05, 1.06035545e-02,\n",
       "          7.64621713e-04, 6.61925413e-04],\n",
       "         [3.77059565e-03, 2.08449597e-03, 8.52975820e-04, 1.05396323e-02,\n",
       "          6.56101678e-04, 2.96199927e-03],\n",
       "         [3.82168870e-03, 2.42350367e-03, 2.59307749e-03, 4.19463636e-03,\n",
       "          8.42096470e-03, 1.04992371e-02],\n",
       "         [2.42434326e-03, 4.37957840e-03, 1.04372473e-02, 2.17363168e-03,\n",
       "          1.49228366e-03, 4.72059101e-03],\n",
       "         [1.49946788e-03, 4.35161171e-03, 7.32256914e-04, 3.34620336e-03,\n",
       "          2.97529972e-03, 1.03914086e-02],\n",
       "         [6.51592994e-03, 1.37601478e-03, 4.52568335e-03, 1.02590257e-02,\n",
       "          1.13841961e-03, 2.01051543e-03],\n",
       "         [3.89622501e-03, 4.52449778e-03, 1.02532413e-02, 3.30646452e-03,\n",
       "          1.53057242e-03, 1.47525792e-03],\n",
       "         [1.52863527e-03, 4.09566006e-03, 1.02487570e-02, 1.78947696e-03,\n",
       "          6.95821072e-04, 8.65944661e-04],\n",
       "         [2.23411247e-03, 1.70993118e-03, 6.80256344e-04, 1.02284905e-02,\n",
       "          2.47058924e-03, 1.37738232e-03],\n",
       "         [2.31183670e-03, 1.36365253e-03, 1.38844328e-03, 1.61884970e-03,\n",
       "          1.02041410e-02, 7.24374841e-04],\n",
       "         [4.85256547e-03, 1.02040255e-02, 6.11877488e-03, 3.56076774e-03,\n",
       "          4.92342887e-03, 7.01916264e-03],\n",
       "         [5.45730488e-03, 1.01987878e-02, 8.59330595e-03, 4.26886091e-03,\n",
       "          4.09599254e-03, 2.88147270e-03],\n",
       "         [3.66727496e-03, 1.37381116e-03, 5.97650884e-04, 1.00671314e-02,\n",
       "          5.08164521e-04, 9.39165941e-04],\n",
       "         [4.21895040e-03, 2.58323736e-03, 9.97859519e-03, 1.63212616e-03,\n",
       "          2.47829966e-03, 2.57217069e-03],\n",
       "         [6.34721341e-03, 2.70374259e-03, 1.66253315e-03, 2.69106380e-03,\n",
       "          9.96894669e-03, 3.57797300e-03]]], dtype=float32)>,\n",
       " 'detection_anchor_indices': <tf.Tensor: shape=(1, 100), dtype=int32, numpy=\n",
       " array([[10495, 12172,  9824, 12168,  9939, 12512, 10073, 10501, 10307,\n",
       "         11086, 10254,  9948,  9734, 12316, 12104,  9807,  1059, 10499,\n",
       "          9894, 10256, 10957,  9846, 10664, 11571, 12235, 12234, 10542,\n",
       "         12732, 12099, 10534, 11014, 11697,  1305, 12760,  9970,  9879,\n",
       "         11650, 10254,  9879,  1293, 12763,  9860, 12389, 12629, 12611,\n",
       "          9888,  5849,  1304, 10090,  9840,  9620,  2981,  9915, 12383,\n",
       "            28, 10136,  2034, 12763, 12500, 11558, 12259,  2974,  5915,\n",
       "           885,  9974, 12564,  4415, 10545,  5006,  9794, 11086,  9900,\n",
       "          9867,    40, 12104,  2496,  4620, 10613,   632,  1299, 12764,\n",
       "         11135, 11143, 12565,  9836, 11611,    16, 10142,   339, 12415,\n",
       "         11974, 10510, 10420, 11834,   447,  1082, 11805, 11539,  3454,\n",
       "          9619]])>}"
      ]
     },
     "execution_count": 27,
     "metadata": {},
     "output_type": "execute_result"
    }
   ],
   "source": [
    "detections"
   ]
  },
  {
   "cell_type": "code",
   "execution_count": null,
   "metadata": {},
   "outputs": [],
   "source": []
  }
 ],
 "metadata": {
  "kernelspec": {
   "display_name": "Python 3",
   "language": "python",
   "name": "python3"
  },
  "language_info": {
   "codemirror_mode": {
    "name": "ipython",
    "version": 3
   },
   "file_extension": ".py",
   "mimetype": "text/x-python",
   "name": "python",
   "nbconvert_exporter": "python",
   "pygments_lexer": "ipython3",
   "version": "3.7.4"
  }
 },
 "nbformat": 4,
 "nbformat_minor": 2
}
